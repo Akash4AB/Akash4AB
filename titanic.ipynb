{
 "cells": [
  {
   "cell_type": "code",
   "execution_count": 1,
   "id": "d98299b8",
   "metadata": {
    "_cell_guid": "b1076dfc-b9ad-4769-8c92-a6c4dae69d19",
    "_uuid": "8f2839f25d086af736a60e9eeb907d3b93b6e0e5",
    "execution": {
     "iopub.execute_input": "2024-05-12T13:53:27.141974Z",
     "iopub.status.busy": "2024-05-12T13:53:27.141586Z",
     "iopub.status.idle": "2024-05-12T13:53:29.606368Z",
     "shell.execute_reply": "2024-05-12T13:53:29.604929Z"
    },
    "papermill": {
     "duration": 2.484151,
     "end_time": "2024-05-12T13:53:29.610473",
     "exception": false,
     "start_time": "2024-05-12T13:53:27.126322",
     "status": "completed"
    },
    "tags": []
   },
   "outputs": [
    {
     "name": "stdout",
     "output_type": "stream",
     "text": [
      "/kaggle/input/test-file/tested.csv\n"
     ]
    }
   ],
   "source": [
    "# This Python 3 environment comes with many helpful analytics libraries installed\n",
    "# It is defined by the kaggle/python Docker image: https://github.com/kaggle/docker-python\n",
    "# For example, here's several helpful packages to load\n",
    "\n",
    "import numpy as np # linear algebra\n",
    "import pandas as pd # data processing, CSV file I/O (e.g. pd.read_csv)\n",
    "import seaborn as sns\n",
    "\n",
    "# Input data files are available in the read-only \"../input/\" directory\n",
    "# For example, running this (by clicking run or pressing Shift+Enter) will list all files under the input directory\n",
    "\n",
    "import os\n",
    "for dirname, _, filenames in os.walk('/kaggle/input'):\n",
    "    for filename in filenames:\n",
    "        print(os.path.join(dirname, filename))\n",
    "\n",
    "# You can write up to 20GB to the current directory (/kaggle/working/) that gets preserved as output when you create a version using \"Save & Run All\" \n",
    "# You can also write temporary files to /kaggle/temp/, but they won't be saved outside of the current session"
   ]
  },
  {
   "cell_type": "markdown",
   "id": "cd71f7cb",
   "metadata": {
    "papermill": {
     "duration": 0.012508,
     "end_time": "2024-05-12T13:53:29.635915",
     "exception": false,
     "start_time": "2024-05-12T13:53:29.623407",
     "status": "completed"
    },
    "tags": []
   },
   "source": [
    "# In this data set we have to predict a personal details survived or not in Titanic sink"
   ]
  },
  {
   "cell_type": "code",
   "execution_count": 2,
   "id": "d1dbb771",
   "metadata": {
    "execution": {
     "iopub.execute_input": "2024-05-12T13:53:29.663760Z",
     "iopub.status.busy": "2024-05-12T13:53:29.662860Z",
     "iopub.status.idle": "2024-05-12T13:53:29.683879Z",
     "shell.execute_reply": "2024-05-12T13:53:29.682615Z"
    },
    "papermill": {
     "duration": 0.037916,
     "end_time": "2024-05-12T13:53:29.686630",
     "exception": false,
     "start_time": "2024-05-12T13:53:29.648714",
     "status": "completed"
    },
    "tags": []
   },
   "outputs": [],
   "source": [
    "df=pd.read_csv('/kaggle/input/test-file/tested.csv')"
   ]
  },
  {
   "cell_type": "markdown",
   "id": "9825263d",
   "metadata": {
    "papermill": {
     "duration": 0.013268,
     "end_time": "2024-05-12T13:53:29.712592",
     "exception": false,
     "start_time": "2024-05-12T13:53:29.699324",
     "status": "completed"
    },
    "tags": []
   },
   "source": [
    "> **How big the data is?**"
   ]
  },
  {
   "cell_type": "code",
   "execution_count": 3,
   "id": "fb44a01e",
   "metadata": {
    "execution": {
     "iopub.execute_input": "2024-05-12T13:53:29.739491Z",
     "iopub.status.busy": "2024-05-12T13:53:29.739086Z",
     "iopub.status.idle": "2024-05-12T13:53:29.747076Z",
     "shell.execute_reply": "2024-05-12T13:53:29.745916Z"
    },
    "papermill": {
     "duration": 0.024563,
     "end_time": "2024-05-12T13:53:29.749688",
     "exception": false,
     "start_time": "2024-05-12T13:53:29.725125",
     "status": "completed"
    },
    "tags": []
   },
   "outputs": [
    {
     "data": {
      "text/plain": [
       "(418, 12)"
      ]
     },
     "execution_count": 3,
     "metadata": {},
     "output_type": "execute_result"
    }
   ],
   "source": [
    "df.shape"
   ]
  },
  {
   "cell_type": "markdown",
   "id": "c7e67034",
   "metadata": {
    "papermill": {
     "duration": 0.012593,
     "end_time": "2024-05-12T13:53:29.775173",
     "exception": false,
     "start_time": "2024-05-12T13:53:29.762580",
     "status": "completed"
    },
    "tags": []
   },
   "source": [
    "> **How does the data look like?**"
   ]
  },
  {
   "cell_type": "code",
   "execution_count": 4,
   "id": "4d9fd8ef",
   "metadata": {
    "execution": {
     "iopub.execute_input": "2024-05-12T13:53:29.802252Z",
     "iopub.status.busy": "2024-05-12T13:53:29.801827Z",
     "iopub.status.idle": "2024-05-12T13:53:29.831293Z",
     "shell.execute_reply": "2024-05-12T13:53:29.830039Z"
    },
    "papermill": {
     "duration": 0.045905,
     "end_time": "2024-05-12T13:53:29.833701",
     "exception": false,
     "start_time": "2024-05-12T13:53:29.787796",
     "status": "completed"
    },
    "tags": []
   },
   "outputs": [
    {
     "data": {
      "text/html": [
       "<div>\n",
       "<style scoped>\n",
       "    .dataframe tbody tr th:only-of-type {\n",
       "        vertical-align: middle;\n",
       "    }\n",
       "\n",
       "    .dataframe tbody tr th {\n",
       "        vertical-align: top;\n",
       "    }\n",
       "\n",
       "    .dataframe thead th {\n",
       "        text-align: right;\n",
       "    }\n",
       "</style>\n",
       "<table border=\"1\" class=\"dataframe\">\n",
       "  <thead>\n",
       "    <tr style=\"text-align: right;\">\n",
       "      <th></th>\n",
       "      <th>PassengerId</th>\n",
       "      <th>Survived</th>\n",
       "      <th>Pclass</th>\n",
       "      <th>Name</th>\n",
       "      <th>Sex</th>\n",
       "      <th>Age</th>\n",
       "      <th>SibSp</th>\n",
       "      <th>Parch</th>\n",
       "      <th>Ticket</th>\n",
       "      <th>Fare</th>\n",
       "      <th>Cabin</th>\n",
       "      <th>Embarked</th>\n",
       "    </tr>\n",
       "  </thead>\n",
       "  <tbody>\n",
       "    <tr>\n",
       "      <th>0</th>\n",
       "      <td>892</td>\n",
       "      <td>0</td>\n",
       "      <td>3</td>\n",
       "      <td>Kelly, Mr. James</td>\n",
       "      <td>male</td>\n",
       "      <td>34.5</td>\n",
       "      <td>0</td>\n",
       "      <td>0</td>\n",
       "      <td>330911</td>\n",
       "      <td>7.8292</td>\n",
       "      <td>NaN</td>\n",
       "      <td>Q</td>\n",
       "    </tr>\n",
       "    <tr>\n",
       "      <th>1</th>\n",
       "      <td>893</td>\n",
       "      <td>1</td>\n",
       "      <td>3</td>\n",
       "      <td>Wilkes, Mrs. James (Ellen Needs)</td>\n",
       "      <td>female</td>\n",
       "      <td>47.0</td>\n",
       "      <td>1</td>\n",
       "      <td>0</td>\n",
       "      <td>363272</td>\n",
       "      <td>7.0000</td>\n",
       "      <td>NaN</td>\n",
       "      <td>S</td>\n",
       "    </tr>\n",
       "    <tr>\n",
       "      <th>2</th>\n",
       "      <td>894</td>\n",
       "      <td>0</td>\n",
       "      <td>2</td>\n",
       "      <td>Myles, Mr. Thomas Francis</td>\n",
       "      <td>male</td>\n",
       "      <td>62.0</td>\n",
       "      <td>0</td>\n",
       "      <td>0</td>\n",
       "      <td>240276</td>\n",
       "      <td>9.6875</td>\n",
       "      <td>NaN</td>\n",
       "      <td>Q</td>\n",
       "    </tr>\n",
       "    <tr>\n",
       "      <th>3</th>\n",
       "      <td>895</td>\n",
       "      <td>0</td>\n",
       "      <td>3</td>\n",
       "      <td>Wirz, Mr. Albert</td>\n",
       "      <td>male</td>\n",
       "      <td>27.0</td>\n",
       "      <td>0</td>\n",
       "      <td>0</td>\n",
       "      <td>315154</td>\n",
       "      <td>8.6625</td>\n",
       "      <td>NaN</td>\n",
       "      <td>S</td>\n",
       "    </tr>\n",
       "    <tr>\n",
       "      <th>4</th>\n",
       "      <td>896</td>\n",
       "      <td>1</td>\n",
       "      <td>3</td>\n",
       "      <td>Hirvonen, Mrs. Alexander (Helga E Lindqvist)</td>\n",
       "      <td>female</td>\n",
       "      <td>22.0</td>\n",
       "      <td>1</td>\n",
       "      <td>1</td>\n",
       "      <td>3101298</td>\n",
       "      <td>12.2875</td>\n",
       "      <td>NaN</td>\n",
       "      <td>S</td>\n",
       "    </tr>\n",
       "  </tbody>\n",
       "</table>\n",
       "</div>"
      ],
      "text/plain": [
       "   PassengerId  Survived  Pclass  \\\n",
       "0          892         0       3   \n",
       "1          893         1       3   \n",
       "2          894         0       2   \n",
       "3          895         0       3   \n",
       "4          896         1       3   \n",
       "\n",
       "                                           Name     Sex   Age  SibSp  Parch  \\\n",
       "0                              Kelly, Mr. James    male  34.5      0      0   \n",
       "1              Wilkes, Mrs. James (Ellen Needs)  female  47.0      1      0   \n",
       "2                     Myles, Mr. Thomas Francis    male  62.0      0      0   \n",
       "3                              Wirz, Mr. Albert    male  27.0      0      0   \n",
       "4  Hirvonen, Mrs. Alexander (Helga E Lindqvist)  female  22.0      1      1   \n",
       "\n",
       "    Ticket     Fare Cabin Embarked  \n",
       "0   330911   7.8292   NaN        Q  \n",
       "1   363272   7.0000   NaN        S  \n",
       "2   240276   9.6875   NaN        Q  \n",
       "3   315154   8.6625   NaN        S  \n",
       "4  3101298  12.2875   NaN        S  "
      ]
     },
     "execution_count": 4,
     "metadata": {},
     "output_type": "execute_result"
    }
   ],
   "source": [
    "df.head()"
   ]
  },
  {
   "cell_type": "code",
   "execution_count": 5,
   "id": "b30a194d",
   "metadata": {
    "execution": {
     "iopub.execute_input": "2024-05-12T13:53:29.864203Z",
     "iopub.status.busy": "2024-05-12T13:53:29.863416Z",
     "iopub.status.idle": "2024-05-12T13:53:29.890499Z",
     "shell.execute_reply": "2024-05-12T13:53:29.889331Z"
    },
    "papermill": {
     "duration": 0.045534,
     "end_time": "2024-05-12T13:53:29.893202",
     "exception": false,
     "start_time": "2024-05-12T13:53:29.847668",
     "status": "completed"
    },
    "tags": []
   },
   "outputs": [
    {
     "data": {
      "text/html": [
       "<div>\n",
       "<style scoped>\n",
       "    .dataframe tbody tr th:only-of-type {\n",
       "        vertical-align: middle;\n",
       "    }\n",
       "\n",
       "    .dataframe tbody tr th {\n",
       "        vertical-align: top;\n",
       "    }\n",
       "\n",
       "    .dataframe thead th {\n",
       "        text-align: right;\n",
       "    }\n",
       "</style>\n",
       "<table border=\"1\" class=\"dataframe\">\n",
       "  <thead>\n",
       "    <tr style=\"text-align: right;\">\n",
       "      <th></th>\n",
       "      <th>PassengerId</th>\n",
       "      <th>Survived</th>\n",
       "      <th>Pclass</th>\n",
       "      <th>Name</th>\n",
       "      <th>Sex</th>\n",
       "      <th>Age</th>\n",
       "      <th>SibSp</th>\n",
       "      <th>Parch</th>\n",
       "      <th>Ticket</th>\n",
       "      <th>Fare</th>\n",
       "      <th>Cabin</th>\n",
       "      <th>Embarked</th>\n",
       "    </tr>\n",
       "  </thead>\n",
       "  <tbody>\n",
       "    <tr>\n",
       "      <th>182</th>\n",
       "      <td>1074</td>\n",
       "      <td>1</td>\n",
       "      <td>1</td>\n",
       "      <td>Marvin, Mrs. Daniel Warner (Mary Graham Carmic...</td>\n",
       "      <td>female</td>\n",
       "      <td>18.0</td>\n",
       "      <td>1</td>\n",
       "      <td>0</td>\n",
       "      <td>113773</td>\n",
       "      <td>53.1000</td>\n",
       "      <td>D30</td>\n",
       "      <td>S</td>\n",
       "    </tr>\n",
       "    <tr>\n",
       "      <th>75</th>\n",
       "      <td>967</td>\n",
       "      <td>0</td>\n",
       "      <td>1</td>\n",
       "      <td>Keeping, Mr. Edwin</td>\n",
       "      <td>male</td>\n",
       "      <td>32.5</td>\n",
       "      <td>0</td>\n",
       "      <td>0</td>\n",
       "      <td>113503</td>\n",
       "      <td>211.5000</td>\n",
       "      <td>C132</td>\n",
       "      <td>C</td>\n",
       "    </tr>\n",
       "    <tr>\n",
       "      <th>15</th>\n",
       "      <td>907</td>\n",
       "      <td>1</td>\n",
       "      <td>2</td>\n",
       "      <td>del Carlo, Mrs. Sebastiano (Argenia Genovesi)</td>\n",
       "      <td>female</td>\n",
       "      <td>24.0</td>\n",
       "      <td>1</td>\n",
       "      <td>0</td>\n",
       "      <td>SC/PARIS 2167</td>\n",
       "      <td>27.7208</td>\n",
       "      <td>NaN</td>\n",
       "      <td>C</td>\n",
       "    </tr>\n",
       "    <tr>\n",
       "      <th>13</th>\n",
       "      <td>905</td>\n",
       "      <td>0</td>\n",
       "      <td>2</td>\n",
       "      <td>Howard, Mr. Benjamin</td>\n",
       "      <td>male</td>\n",
       "      <td>63.0</td>\n",
       "      <td>1</td>\n",
       "      <td>0</td>\n",
       "      <td>24065</td>\n",
       "      <td>26.0000</td>\n",
       "      <td>NaN</td>\n",
       "      <td>S</td>\n",
       "    </tr>\n",
       "    <tr>\n",
       "      <th>284</th>\n",
       "      <td>1176</td>\n",
       "      <td>1</td>\n",
       "      <td>3</td>\n",
       "      <td>Rosblom, Miss. Salli Helena</td>\n",
       "      <td>female</td>\n",
       "      <td>2.0</td>\n",
       "      <td>1</td>\n",
       "      <td>1</td>\n",
       "      <td>370129</td>\n",
       "      <td>20.2125</td>\n",
       "      <td>NaN</td>\n",
       "      <td>S</td>\n",
       "    </tr>\n",
       "  </tbody>\n",
       "</table>\n",
       "</div>"
      ],
      "text/plain": [
       "     PassengerId  Survived  Pclass  \\\n",
       "182         1074         1       1   \n",
       "75           967         0       1   \n",
       "15           907         1       2   \n",
       "13           905         0       2   \n",
       "284         1176         1       3   \n",
       "\n",
       "                                                  Name     Sex   Age  SibSp  \\\n",
       "182  Marvin, Mrs. Daniel Warner (Mary Graham Carmic...  female  18.0      1   \n",
       "75                                  Keeping, Mr. Edwin    male  32.5      0   \n",
       "15       del Carlo, Mrs. Sebastiano (Argenia Genovesi)  female  24.0      1   \n",
       "13                                Howard, Mr. Benjamin    male  63.0      1   \n",
       "284                        Rosblom, Miss. Salli Helena  female   2.0      1   \n",
       "\n",
       "     Parch         Ticket      Fare Cabin Embarked  \n",
       "182      0         113773   53.1000   D30        S  \n",
       "75       0         113503  211.5000  C132        C  \n",
       "15       0  SC/PARIS 2167   27.7208   NaN        C  \n",
       "13       0          24065   26.0000   NaN        S  \n",
       "284      1         370129   20.2125   NaN        S  "
      ]
     },
     "execution_count": 5,
     "metadata": {},
     "output_type": "execute_result"
    }
   ],
   "source": [
    "#if I can watch sample data we use\n",
    "df.sample(5) #randomly 5 rows"
   ]
  },
  {
   "cell_type": "markdown",
   "id": "424a8af8",
   "metadata": {
    "papermill": {
     "duration": 0.013465,
     "end_time": "2024-05-12T13:53:29.920218",
     "exception": false,
     "start_time": "2024-05-12T13:53:29.906753",
     "status": "completed"
    },
    "tags": []
   },
   "source": [
    "> **what is the type of columns?**"
   ]
  },
  {
   "cell_type": "code",
   "execution_count": 6,
   "id": "378f52ae",
   "metadata": {
    "execution": {
     "iopub.execute_input": "2024-05-12T13:53:29.949909Z",
     "iopub.status.busy": "2024-05-12T13:53:29.949103Z",
     "iopub.status.idle": "2024-05-12T13:53:29.971622Z",
     "shell.execute_reply": "2024-05-12T13:53:29.970465Z"
    },
    "papermill": {
     "duration": 0.041502,
     "end_time": "2024-05-12T13:53:29.975337",
     "exception": false,
     "start_time": "2024-05-12T13:53:29.933835",
     "status": "completed"
    },
    "tags": []
   },
   "outputs": [
    {
     "name": "stdout",
     "output_type": "stream",
     "text": [
      "<class 'pandas.core.frame.DataFrame'>\n",
      "RangeIndex: 418 entries, 0 to 417\n",
      "Data columns (total 12 columns):\n",
      " #   Column       Non-Null Count  Dtype  \n",
      "---  ------       --------------  -----  \n",
      " 0   PassengerId  418 non-null    int64  \n",
      " 1   Survived     418 non-null    int64  \n",
      " 2   Pclass       418 non-null    int64  \n",
      " 3   Name         418 non-null    object \n",
      " 4   Sex          418 non-null    object \n",
      " 5   Age          332 non-null    float64\n",
      " 6   SibSp        418 non-null    int64  \n",
      " 7   Parch        418 non-null    int64  \n",
      " 8   Ticket       418 non-null    object \n",
      " 9   Fare         417 non-null    float64\n",
      " 10  Cabin        91 non-null     object \n",
      " 11  Embarked     418 non-null    object \n",
      "dtypes: float64(2), int64(5), object(5)\n",
      "memory usage: 39.3+ KB\n"
     ]
    }
   ],
   "source": [
    "df.info()"
   ]
  },
  {
   "cell_type": "markdown",
   "id": "2e58ea54",
   "metadata": {
    "papermill": {
     "duration": 0.013439,
     "end_time": "2024-05-12T13:53:30.002593",
     "exception": false,
     "start_time": "2024-05-12T13:53:29.989154",
     "status": "completed"
    },
    "tags": []
   },
   "source": [
    "> **Are there any missing values?**"
   ]
  },
  {
   "cell_type": "code",
   "execution_count": 7,
   "id": "d12ca54c",
   "metadata": {
    "execution": {
     "iopub.execute_input": "2024-05-12T13:53:30.032277Z",
     "iopub.status.busy": "2024-05-12T13:53:30.031523Z",
     "iopub.status.idle": "2024-05-12T13:53:30.041042Z",
     "shell.execute_reply": "2024-05-12T13:53:30.039767Z"
    },
    "papermill": {
     "duration": 0.027099,
     "end_time": "2024-05-12T13:53:30.043368",
     "exception": false,
     "start_time": "2024-05-12T13:53:30.016269",
     "status": "completed"
    },
    "tags": []
   },
   "outputs": [
    {
     "data": {
      "text/plain": [
       "PassengerId      0\n",
       "Survived         0\n",
       "Pclass           0\n",
       "Name             0\n",
       "Sex              0\n",
       "Age             86\n",
       "SibSp            0\n",
       "Parch            0\n",
       "Ticket           0\n",
       "Fare             1\n",
       "Cabin          327\n",
       "Embarked         0\n",
       "dtype: int64"
      ]
     },
     "execution_count": 7,
     "metadata": {},
     "output_type": "execute_result"
    }
   ],
   "source": [
    "df.isnull().sum()"
   ]
  },
  {
   "cell_type": "markdown",
   "id": "0bac5f4d",
   "metadata": {
    "papermill": {
     "duration": 0.013509,
     "end_time": "2024-05-12T13:53:30.070538",
     "exception": false,
     "start_time": "2024-05-12T13:53:30.057029",
     "status": "completed"
    },
    "tags": []
   },
   "source": [
    ">**How does the data look mathematically?** "
   ]
  },
  {
   "cell_type": "code",
   "execution_count": 8,
   "id": "fa2f7ae1",
   "metadata": {
    "execution": {
     "iopub.execute_input": "2024-05-12T13:53:30.099786Z",
     "iopub.status.busy": "2024-05-12T13:53:30.099395Z",
     "iopub.status.idle": "2024-05-12T13:53:30.133554Z",
     "shell.execute_reply": "2024-05-12T13:53:30.132216Z"
    },
    "papermill": {
     "duration": 0.052038,
     "end_time": "2024-05-12T13:53:30.136209",
     "exception": false,
     "start_time": "2024-05-12T13:53:30.084171",
     "status": "completed"
    },
    "tags": []
   },
   "outputs": [
    {
     "data": {
      "text/html": [
       "<div>\n",
       "<style scoped>\n",
       "    .dataframe tbody tr th:only-of-type {\n",
       "        vertical-align: middle;\n",
       "    }\n",
       "\n",
       "    .dataframe tbody tr th {\n",
       "        vertical-align: top;\n",
       "    }\n",
       "\n",
       "    .dataframe thead th {\n",
       "        text-align: right;\n",
       "    }\n",
       "</style>\n",
       "<table border=\"1\" class=\"dataframe\">\n",
       "  <thead>\n",
       "    <tr style=\"text-align: right;\">\n",
       "      <th></th>\n",
       "      <th>PassengerId</th>\n",
       "      <th>Survived</th>\n",
       "      <th>Pclass</th>\n",
       "      <th>Age</th>\n",
       "      <th>SibSp</th>\n",
       "      <th>Parch</th>\n",
       "      <th>Fare</th>\n",
       "    </tr>\n",
       "  </thead>\n",
       "  <tbody>\n",
       "    <tr>\n",
       "      <th>count</th>\n",
       "      <td>418.000000</td>\n",
       "      <td>418.000000</td>\n",
       "      <td>418.000000</td>\n",
       "      <td>332.000000</td>\n",
       "      <td>418.000000</td>\n",
       "      <td>418.000000</td>\n",
       "      <td>417.000000</td>\n",
       "    </tr>\n",
       "    <tr>\n",
       "      <th>mean</th>\n",
       "      <td>1100.500000</td>\n",
       "      <td>0.363636</td>\n",
       "      <td>2.265550</td>\n",
       "      <td>30.272590</td>\n",
       "      <td>0.447368</td>\n",
       "      <td>0.392344</td>\n",
       "      <td>35.627188</td>\n",
       "    </tr>\n",
       "    <tr>\n",
       "      <th>std</th>\n",
       "      <td>120.810458</td>\n",
       "      <td>0.481622</td>\n",
       "      <td>0.841838</td>\n",
       "      <td>14.181209</td>\n",
       "      <td>0.896760</td>\n",
       "      <td>0.981429</td>\n",
       "      <td>55.907576</td>\n",
       "    </tr>\n",
       "    <tr>\n",
       "      <th>min</th>\n",
       "      <td>892.000000</td>\n",
       "      <td>0.000000</td>\n",
       "      <td>1.000000</td>\n",
       "      <td>0.170000</td>\n",
       "      <td>0.000000</td>\n",
       "      <td>0.000000</td>\n",
       "      <td>0.000000</td>\n",
       "    </tr>\n",
       "    <tr>\n",
       "      <th>25%</th>\n",
       "      <td>996.250000</td>\n",
       "      <td>0.000000</td>\n",
       "      <td>1.000000</td>\n",
       "      <td>21.000000</td>\n",
       "      <td>0.000000</td>\n",
       "      <td>0.000000</td>\n",
       "      <td>7.895800</td>\n",
       "    </tr>\n",
       "    <tr>\n",
       "      <th>50%</th>\n",
       "      <td>1100.500000</td>\n",
       "      <td>0.000000</td>\n",
       "      <td>3.000000</td>\n",
       "      <td>27.000000</td>\n",
       "      <td>0.000000</td>\n",
       "      <td>0.000000</td>\n",
       "      <td>14.454200</td>\n",
       "    </tr>\n",
       "    <tr>\n",
       "      <th>75%</th>\n",
       "      <td>1204.750000</td>\n",
       "      <td>1.000000</td>\n",
       "      <td>3.000000</td>\n",
       "      <td>39.000000</td>\n",
       "      <td>1.000000</td>\n",
       "      <td>0.000000</td>\n",
       "      <td>31.500000</td>\n",
       "    </tr>\n",
       "    <tr>\n",
       "      <th>max</th>\n",
       "      <td>1309.000000</td>\n",
       "      <td>1.000000</td>\n",
       "      <td>3.000000</td>\n",
       "      <td>76.000000</td>\n",
       "      <td>8.000000</td>\n",
       "      <td>9.000000</td>\n",
       "      <td>512.329200</td>\n",
       "    </tr>\n",
       "  </tbody>\n",
       "</table>\n",
       "</div>"
      ],
      "text/plain": [
       "       PassengerId    Survived      Pclass         Age       SibSp  \\\n",
       "count   418.000000  418.000000  418.000000  332.000000  418.000000   \n",
       "mean   1100.500000    0.363636    2.265550   30.272590    0.447368   \n",
       "std     120.810458    0.481622    0.841838   14.181209    0.896760   \n",
       "min     892.000000    0.000000    1.000000    0.170000    0.000000   \n",
       "25%     996.250000    0.000000    1.000000   21.000000    0.000000   \n",
       "50%    1100.500000    0.000000    3.000000   27.000000    0.000000   \n",
       "75%    1204.750000    1.000000    3.000000   39.000000    1.000000   \n",
       "max    1309.000000    1.000000    3.000000   76.000000    8.000000   \n",
       "\n",
       "            Parch        Fare  \n",
       "count  418.000000  417.000000  \n",
       "mean     0.392344   35.627188  \n",
       "std      0.981429   55.907576  \n",
       "min      0.000000    0.000000  \n",
       "25%      0.000000    7.895800  \n",
       "50%      0.000000   14.454200  \n",
       "75%      0.000000   31.500000  \n",
       "max      9.000000  512.329200  "
      ]
     },
     "execution_count": 8,
     "metadata": {},
     "output_type": "execute_result"
    }
   ],
   "source": [
    "df.describe()"
   ]
  },
  {
   "cell_type": "markdown",
   "id": "23e554ca",
   "metadata": {
    "papermill": {
     "duration": 0.013851,
     "end_time": "2024-05-12T13:53:30.164612",
     "exception": false,
     "start_time": "2024-05-12T13:53:30.150761",
     "status": "completed"
    },
    "tags": []
   },
   "source": [
    "> **Are there any duplicated rows?**"
   ]
  },
  {
   "cell_type": "code",
   "execution_count": 9,
   "id": "c6717355",
   "metadata": {
    "execution": {
     "iopub.execute_input": "2024-05-12T13:53:30.195567Z",
     "iopub.status.busy": "2024-05-12T13:53:30.194555Z",
     "iopub.status.idle": "2024-05-12T13:53:30.204605Z",
     "shell.execute_reply": "2024-05-12T13:53:30.203530Z"
    },
    "papermill": {
     "duration": 0.028512,
     "end_time": "2024-05-12T13:53:30.207307",
     "exception": false,
     "start_time": "2024-05-12T13:53:30.178795",
     "status": "completed"
    },
    "tags": []
   },
   "outputs": [
    {
     "data": {
      "text/plain": [
       "0"
      ]
     },
     "execution_count": 9,
     "metadata": {},
     "output_type": "execute_result"
    }
   ],
   "source": [
    "df.duplicated().sum()"
   ]
  },
  {
   "cell_type": "markdown",
   "id": "bac70010",
   "metadata": {
    "papermill": {
     "duration": 0.013839,
     "end_time": "2024-05-12T13:53:30.235627",
     "exception": false,
     "start_time": "2024-05-12T13:53:30.221788",
     "status": "completed"
    },
    "tags": []
   },
   "source": [
    "> **How is the correlation b/w columns, if there is no role of any col in output then we can remove that col**"
   ]
  },
  {
   "cell_type": "code",
   "execution_count": 10,
   "id": "6cd0b2d5",
   "metadata": {
    "execution": {
     "iopub.execute_input": "2024-05-12T13:53:30.265622Z",
     "iopub.status.busy": "2024-05-12T13:53:30.265189Z",
     "iopub.status.idle": "2024-05-12T13:53:30.530085Z",
     "shell.execute_reply": "2024-05-12T13:53:30.528725Z"
    },
    "papermill": {
     "duration": 0.282989,
     "end_time": "2024-05-12T13:53:30.532680",
     "exception": false,
     "start_time": "2024-05-12T13:53:30.249691",
     "status": "completed"
    },
    "tags": []
   },
   "outputs": [
    {
     "data": {
      "text/plain": [
       "array([1, 2, 1, 2, 2, 2, 1, 2, 0, 2, 2, 2, 2, 2, 2, 0, 1, 0, 2, 0, 0, 2,\n",
       "       2, 0, 0, 2, 0, 0, 2, 0, 2, 2, 2, 2, 0, 0, 2, 2, 2, 2, 0, 2, 2, 2,\n",
       "       2, 2, 0, 1, 0, 2, 2, 0, 2, 2, 0, 1, 2, 2, 2, 0, 2, 2, 2, 1, 0, 2,\n",
       "       1, 2, 0, 2, 1, 2, 2, 0, 0, 0, 2, 2, 2, 1, 0, 2, 2, 2, 1, 0, 1, 2,\n",
       "       1, 2, 2, 2, 2, 2, 0, 2, 2, 2, 2, 2, 0, 2, 1, 2, 0, 2, 1, 1, 2, 2,\n",
       "       0, 1, 0, 1, 2, 0, 0, 2, 0, 2, 2, 1, 0, 2, 1, 2, 2, 1, 2, 2, 2, 0,\n",
       "       2, 0, 2, 2, 0, 2, 2, 2, 2, 2, 0, 2, 2, 2, 2, 2, 2, 2, 0, 0, 2, 2,\n",
       "       2, 2, 2, 2, 2, 2, 1, 0, 2, 2, 2, 2, 0, 2, 0, 2, 2, 0, 2, 0, 2, 2,\n",
       "       2, 0, 2, 0, 2, 0, 2, 1, 0, 2, 2, 2, 2, 2, 2, 2, 2, 1, 2, 2, 0, 2,\n",
       "       2, 2, 1, 2, 0, 2, 2, 0, 1, 2, 0, 2, 2, 2, 2, 2, 2, 2, 1, 2, 0, 2,\n",
       "       0, 2, 2, 2, 0, 0, 2, 1, 2, 2, 2, 2, 2, 1, 0, 2, 0, 0, 2, 0, 0, 2,\n",
       "       0, 2, 2, 2, 2, 2, 2, 0, 2, 2, 0, 2, 2, 2, 1, 2, 2, 2, 2, 2, 2, 2,\n",
       "       0, 2, 2, 2, 2, 2, 0, 1, 0, 1, 0, 2, 2, 2, 2, 2, 2, 2, 1, 0, 2, 2,\n",
       "       2, 2, 0, 2, 2, 1, 0, 2, 2, 2, 0, 0, 2, 2, 2, 0, 2, 2, 1, 2, 2, 2,\n",
       "       2, 2, 2, 0, 2, 1, 0, 1, 0, 2, 2, 2, 2, 0, 2, 2, 2, 2, 2, 0, 2, 2,\n",
       "       2, 0, 0, 0, 2, 2, 2, 0, 2, 0, 2, 2, 2, 0, 2, 2, 2, 0, 2, 2, 0, 2,\n",
       "       2, 2, 2, 2, 2, 2, 1, 2, 2, 0, 2, 2, 0, 2, 0, 2, 0, 0, 2, 0, 2, 2,\n",
       "       2, 0, 2, 2, 2, 2, 1, 1, 2, 2, 2, 2, 2, 2, 1, 2, 2, 2, 2, 2, 2, 2,\n",
       "       1, 0, 2, 1, 2, 2, 0, 2, 0, 0, 2, 0, 1, 2, 1, 1, 2, 2, 0, 2, 2, 0])"
      ]
     },
     "execution_count": 10,
     "metadata": {},
     "output_type": "execute_result"
    }
   ],
   "source": [
    "# df.corr() [we can not do this as we have categorical column, so we have to change it into numerical data]\n",
    "# bellow we change categorical data into numerical data\n",
    "from sklearn.preprocessing import LabelEncoder\n",
    "le = LabelEncoder()\n",
    "label = le.fit_transform(df['Embarked'])\n",
    "label"
   ]
  },
  {
   "cell_type": "code",
   "execution_count": 11,
   "id": "eb051f1a",
   "metadata": {
    "execution": {
     "iopub.execute_input": "2024-05-12T13:53:30.563693Z",
     "iopub.status.busy": "2024-05-12T13:53:30.563315Z",
     "iopub.status.idle": "2024-05-12T13:53:30.589226Z",
     "shell.execute_reply": "2024-05-12T13:53:30.587818Z"
    },
    "papermill": {
     "duration": 0.044457,
     "end_time": "2024-05-12T13:53:30.591745",
     "exception": false,
     "start_time": "2024-05-12T13:53:30.547288",
     "status": "completed"
    },
    "tags": []
   },
   "outputs": [
    {
     "data": {
      "text/html": [
       "<div>\n",
       "<style scoped>\n",
       "    .dataframe tbody tr th:only-of-type {\n",
       "        vertical-align: middle;\n",
       "    }\n",
       "\n",
       "    .dataframe tbody tr th {\n",
       "        vertical-align: top;\n",
       "    }\n",
       "\n",
       "    .dataframe thead th {\n",
       "        text-align: right;\n",
       "    }\n",
       "</style>\n",
       "<table border=\"1\" class=\"dataframe\">\n",
       "  <thead>\n",
       "    <tr style=\"text-align: right;\">\n",
       "      <th></th>\n",
       "      <th>PassengerId</th>\n",
       "      <th>Survived</th>\n",
       "      <th>Pclass</th>\n",
       "      <th>Name</th>\n",
       "      <th>Sex</th>\n",
       "      <th>Age</th>\n",
       "      <th>SibSp</th>\n",
       "      <th>Parch</th>\n",
       "      <th>Ticket</th>\n",
       "      <th>Fare</th>\n",
       "      <th>Cabin</th>\n",
       "      <th>Embarked</th>\n",
       "    </tr>\n",
       "  </thead>\n",
       "  <tbody>\n",
       "    <tr>\n",
       "      <th>0</th>\n",
       "      <td>892</td>\n",
       "      <td>0</td>\n",
       "      <td>3</td>\n",
       "      <td>Kelly, Mr. James</td>\n",
       "      <td>male</td>\n",
       "      <td>34.5</td>\n",
       "      <td>0</td>\n",
       "      <td>0</td>\n",
       "      <td>330911</td>\n",
       "      <td>7.8292</td>\n",
       "      <td>NaN</td>\n",
       "      <td>1</td>\n",
       "    </tr>\n",
       "    <tr>\n",
       "      <th>1</th>\n",
       "      <td>893</td>\n",
       "      <td>1</td>\n",
       "      <td>3</td>\n",
       "      <td>Wilkes, Mrs. James (Ellen Needs)</td>\n",
       "      <td>female</td>\n",
       "      <td>47.0</td>\n",
       "      <td>1</td>\n",
       "      <td>0</td>\n",
       "      <td>363272</td>\n",
       "      <td>7.0000</td>\n",
       "      <td>NaN</td>\n",
       "      <td>2</td>\n",
       "    </tr>\n",
       "    <tr>\n",
       "      <th>2</th>\n",
       "      <td>894</td>\n",
       "      <td>0</td>\n",
       "      <td>2</td>\n",
       "      <td>Myles, Mr. Thomas Francis</td>\n",
       "      <td>male</td>\n",
       "      <td>62.0</td>\n",
       "      <td>0</td>\n",
       "      <td>0</td>\n",
       "      <td>240276</td>\n",
       "      <td>9.6875</td>\n",
       "      <td>NaN</td>\n",
       "      <td>1</td>\n",
       "    </tr>\n",
       "    <tr>\n",
       "      <th>3</th>\n",
       "      <td>895</td>\n",
       "      <td>0</td>\n",
       "      <td>3</td>\n",
       "      <td>Wirz, Mr. Albert</td>\n",
       "      <td>male</td>\n",
       "      <td>27.0</td>\n",
       "      <td>0</td>\n",
       "      <td>0</td>\n",
       "      <td>315154</td>\n",
       "      <td>8.6625</td>\n",
       "      <td>NaN</td>\n",
       "      <td>2</td>\n",
       "    </tr>\n",
       "    <tr>\n",
       "      <th>4</th>\n",
       "      <td>896</td>\n",
       "      <td>1</td>\n",
       "      <td>3</td>\n",
       "      <td>Hirvonen, Mrs. Alexander (Helga E Lindqvist)</td>\n",
       "      <td>female</td>\n",
       "      <td>22.0</td>\n",
       "      <td>1</td>\n",
       "      <td>1</td>\n",
       "      <td>3101298</td>\n",
       "      <td>12.2875</td>\n",
       "      <td>NaN</td>\n",
       "      <td>2</td>\n",
       "    </tr>\n",
       "    <tr>\n",
       "      <th>...</th>\n",
       "      <td>...</td>\n",
       "      <td>...</td>\n",
       "      <td>...</td>\n",
       "      <td>...</td>\n",
       "      <td>...</td>\n",
       "      <td>...</td>\n",
       "      <td>...</td>\n",
       "      <td>...</td>\n",
       "      <td>...</td>\n",
       "      <td>...</td>\n",
       "      <td>...</td>\n",
       "      <td>...</td>\n",
       "    </tr>\n",
       "    <tr>\n",
       "      <th>413</th>\n",
       "      <td>1305</td>\n",
       "      <td>0</td>\n",
       "      <td>3</td>\n",
       "      <td>Spector, Mr. Woolf</td>\n",
       "      <td>male</td>\n",
       "      <td>NaN</td>\n",
       "      <td>0</td>\n",
       "      <td>0</td>\n",
       "      <td>A.5. 3236</td>\n",
       "      <td>8.0500</td>\n",
       "      <td>NaN</td>\n",
       "      <td>2</td>\n",
       "    </tr>\n",
       "    <tr>\n",
       "      <th>414</th>\n",
       "      <td>1306</td>\n",
       "      <td>1</td>\n",
       "      <td>1</td>\n",
       "      <td>Oliva y Ocana, Dona. Fermina</td>\n",
       "      <td>female</td>\n",
       "      <td>39.0</td>\n",
       "      <td>0</td>\n",
       "      <td>0</td>\n",
       "      <td>PC 17758</td>\n",
       "      <td>108.9000</td>\n",
       "      <td>C105</td>\n",
       "      <td>0</td>\n",
       "    </tr>\n",
       "    <tr>\n",
       "      <th>415</th>\n",
       "      <td>1307</td>\n",
       "      <td>0</td>\n",
       "      <td>3</td>\n",
       "      <td>Saether, Mr. Simon Sivertsen</td>\n",
       "      <td>male</td>\n",
       "      <td>38.5</td>\n",
       "      <td>0</td>\n",
       "      <td>0</td>\n",
       "      <td>SOTON/O.Q. 3101262</td>\n",
       "      <td>7.2500</td>\n",
       "      <td>NaN</td>\n",
       "      <td>2</td>\n",
       "    </tr>\n",
       "    <tr>\n",
       "      <th>416</th>\n",
       "      <td>1308</td>\n",
       "      <td>0</td>\n",
       "      <td>3</td>\n",
       "      <td>Ware, Mr. Frederick</td>\n",
       "      <td>male</td>\n",
       "      <td>NaN</td>\n",
       "      <td>0</td>\n",
       "      <td>0</td>\n",
       "      <td>359309</td>\n",
       "      <td>8.0500</td>\n",
       "      <td>NaN</td>\n",
       "      <td>2</td>\n",
       "    </tr>\n",
       "    <tr>\n",
       "      <th>417</th>\n",
       "      <td>1309</td>\n",
       "      <td>0</td>\n",
       "      <td>3</td>\n",
       "      <td>Peter, Master. Michael J</td>\n",
       "      <td>male</td>\n",
       "      <td>NaN</td>\n",
       "      <td>1</td>\n",
       "      <td>1</td>\n",
       "      <td>2668</td>\n",
       "      <td>22.3583</td>\n",
       "      <td>NaN</td>\n",
       "      <td>0</td>\n",
       "    </tr>\n",
       "  </tbody>\n",
       "</table>\n",
       "<p>418 rows × 12 columns</p>\n",
       "</div>"
      ],
      "text/plain": [
       "     PassengerId  Survived  Pclass  \\\n",
       "0            892         0       3   \n",
       "1            893         1       3   \n",
       "2            894         0       2   \n",
       "3            895         0       3   \n",
       "4            896         1       3   \n",
       "..           ...       ...     ...   \n",
       "413         1305         0       3   \n",
       "414         1306         1       1   \n",
       "415         1307         0       3   \n",
       "416         1308         0       3   \n",
       "417         1309         0       3   \n",
       "\n",
       "                                             Name     Sex   Age  SibSp  Parch  \\\n",
       "0                                Kelly, Mr. James    male  34.5      0      0   \n",
       "1                Wilkes, Mrs. James (Ellen Needs)  female  47.0      1      0   \n",
       "2                       Myles, Mr. Thomas Francis    male  62.0      0      0   \n",
       "3                                Wirz, Mr. Albert    male  27.0      0      0   \n",
       "4    Hirvonen, Mrs. Alexander (Helga E Lindqvist)  female  22.0      1      1   \n",
       "..                                            ...     ...   ...    ...    ...   \n",
       "413                            Spector, Mr. Woolf    male   NaN      0      0   \n",
       "414                  Oliva y Ocana, Dona. Fermina  female  39.0      0      0   \n",
       "415                  Saether, Mr. Simon Sivertsen    male  38.5      0      0   \n",
       "416                           Ware, Mr. Frederick    male   NaN      0      0   \n",
       "417                      Peter, Master. Michael J    male   NaN      1      1   \n",
       "\n",
       "                 Ticket      Fare Cabin  Embarked  \n",
       "0                330911    7.8292   NaN         1  \n",
       "1                363272    7.0000   NaN         2  \n",
       "2                240276    9.6875   NaN         1  \n",
       "3                315154    8.6625   NaN         2  \n",
       "4               3101298   12.2875   NaN         2  \n",
       "..                  ...       ...   ...       ...  \n",
       "413           A.5. 3236    8.0500   NaN         2  \n",
       "414            PC 17758  108.9000  C105         0  \n",
       "415  SOTON/O.Q. 3101262    7.2500   NaN         2  \n",
       "416              359309    8.0500   NaN         2  \n",
       "417                2668   22.3583   NaN         0  \n",
       "\n",
       "[418 rows x 12 columns]"
      ]
     },
     "execution_count": 11,
     "metadata": {},
     "output_type": "execute_result"
    }
   ],
   "source": [
    "df.drop(\"Embarked\", axis=1, inplace=True)\n",
    "df[\"Embarked\"]=label\n",
    "df"
   ]
  },
  {
   "cell_type": "code",
   "execution_count": 12,
   "id": "fd6c39aa",
   "metadata": {
    "execution": {
     "iopub.execute_input": "2024-05-12T13:53:30.624684Z",
     "iopub.status.busy": "2024-05-12T13:53:30.624276Z",
     "iopub.status.idle": "2024-05-12T13:53:30.642010Z",
     "shell.execute_reply": "2024-05-12T13:53:30.641078Z"
    },
    "papermill": {
     "duration": 0.03688,
     "end_time": "2024-05-12T13:53:30.644276",
     "exception": false,
     "start_time": "2024-05-12T13:53:30.607396",
     "status": "completed"
    },
    "tags": []
   },
   "outputs": [
    {
     "data": {
      "text/html": [
       "<div>\n",
       "<style scoped>\n",
       "    .dataframe tbody tr th:only-of-type {\n",
       "        vertical-align: middle;\n",
       "    }\n",
       "\n",
       "    .dataframe tbody tr th {\n",
       "        vertical-align: top;\n",
       "    }\n",
       "\n",
       "    .dataframe thead th {\n",
       "        text-align: right;\n",
       "    }\n",
       "</style>\n",
       "<table border=\"1\" class=\"dataframe\">\n",
       "  <thead>\n",
       "    <tr style=\"text-align: right;\">\n",
       "      <th></th>\n",
       "      <th>PassengerId</th>\n",
       "      <th>Survived</th>\n",
       "      <th>Pclass</th>\n",
       "      <th>Age</th>\n",
       "      <th>SibSp</th>\n",
       "      <th>Parch</th>\n",
       "      <th>Fare</th>\n",
       "      <th>Embarked</th>\n",
       "    </tr>\n",
       "  </thead>\n",
       "  <tbody>\n",
       "    <tr>\n",
       "      <th>0</th>\n",
       "      <td>892</td>\n",
       "      <td>0</td>\n",
       "      <td>3</td>\n",
       "      <td>34.5</td>\n",
       "      <td>0</td>\n",
       "      <td>0</td>\n",
       "      <td>7.8292</td>\n",
       "      <td>1</td>\n",
       "    </tr>\n",
       "    <tr>\n",
       "      <th>1</th>\n",
       "      <td>893</td>\n",
       "      <td>1</td>\n",
       "      <td>3</td>\n",
       "      <td>47.0</td>\n",
       "      <td>1</td>\n",
       "      <td>0</td>\n",
       "      <td>7.0000</td>\n",
       "      <td>2</td>\n",
       "    </tr>\n",
       "    <tr>\n",
       "      <th>2</th>\n",
       "      <td>894</td>\n",
       "      <td>0</td>\n",
       "      <td>2</td>\n",
       "      <td>62.0</td>\n",
       "      <td>0</td>\n",
       "      <td>0</td>\n",
       "      <td>9.6875</td>\n",
       "      <td>1</td>\n",
       "    </tr>\n",
       "    <tr>\n",
       "      <th>3</th>\n",
       "      <td>895</td>\n",
       "      <td>0</td>\n",
       "      <td>3</td>\n",
       "      <td>27.0</td>\n",
       "      <td>0</td>\n",
       "      <td>0</td>\n",
       "      <td>8.6625</td>\n",
       "      <td>2</td>\n",
       "    </tr>\n",
       "    <tr>\n",
       "      <th>4</th>\n",
       "      <td>896</td>\n",
       "      <td>1</td>\n",
       "      <td>3</td>\n",
       "      <td>22.0</td>\n",
       "      <td>1</td>\n",
       "      <td>1</td>\n",
       "      <td>12.2875</td>\n",
       "      <td>2</td>\n",
       "    </tr>\n",
       "    <tr>\n",
       "      <th>...</th>\n",
       "      <td>...</td>\n",
       "      <td>...</td>\n",
       "      <td>...</td>\n",
       "      <td>...</td>\n",
       "      <td>...</td>\n",
       "      <td>...</td>\n",
       "      <td>...</td>\n",
       "      <td>...</td>\n",
       "    </tr>\n",
       "    <tr>\n",
       "      <th>413</th>\n",
       "      <td>1305</td>\n",
       "      <td>0</td>\n",
       "      <td>3</td>\n",
       "      <td>NaN</td>\n",
       "      <td>0</td>\n",
       "      <td>0</td>\n",
       "      <td>8.0500</td>\n",
       "      <td>2</td>\n",
       "    </tr>\n",
       "    <tr>\n",
       "      <th>414</th>\n",
       "      <td>1306</td>\n",
       "      <td>1</td>\n",
       "      <td>1</td>\n",
       "      <td>39.0</td>\n",
       "      <td>0</td>\n",
       "      <td>0</td>\n",
       "      <td>108.9000</td>\n",
       "      <td>0</td>\n",
       "    </tr>\n",
       "    <tr>\n",
       "      <th>415</th>\n",
       "      <td>1307</td>\n",
       "      <td>0</td>\n",
       "      <td>3</td>\n",
       "      <td>38.5</td>\n",
       "      <td>0</td>\n",
       "      <td>0</td>\n",
       "      <td>7.2500</td>\n",
       "      <td>2</td>\n",
       "    </tr>\n",
       "    <tr>\n",
       "      <th>416</th>\n",
       "      <td>1308</td>\n",
       "      <td>0</td>\n",
       "      <td>3</td>\n",
       "      <td>NaN</td>\n",
       "      <td>0</td>\n",
       "      <td>0</td>\n",
       "      <td>8.0500</td>\n",
       "      <td>2</td>\n",
       "    </tr>\n",
       "    <tr>\n",
       "      <th>417</th>\n",
       "      <td>1309</td>\n",
       "      <td>0</td>\n",
       "      <td>3</td>\n",
       "      <td>NaN</td>\n",
       "      <td>1</td>\n",
       "      <td>1</td>\n",
       "      <td>22.3583</td>\n",
       "      <td>0</td>\n",
       "    </tr>\n",
       "  </tbody>\n",
       "</table>\n",
       "<p>418 rows × 8 columns</p>\n",
       "</div>"
      ],
      "text/plain": [
       "     PassengerId  Survived  Pclass   Age  SibSp  Parch      Fare  Embarked\n",
       "0            892         0       3  34.5      0      0    7.8292         1\n",
       "1            893         1       3  47.0      1      0    7.0000         2\n",
       "2            894         0       2  62.0      0      0    9.6875         1\n",
       "3            895         0       3  27.0      0      0    8.6625         2\n",
       "4            896         1       3  22.0      1      1   12.2875         2\n",
       "..           ...       ...     ...   ...    ...    ...       ...       ...\n",
       "413         1305         0       3   NaN      0      0    8.0500         2\n",
       "414         1306         1       1  39.0      0      0  108.9000         0\n",
       "415         1307         0       3  38.5      0      0    7.2500         2\n",
       "416         1308         0       3   NaN      0      0    8.0500         2\n",
       "417         1309         0       3   NaN      1      1   22.3583         0\n",
       "\n",
       "[418 rows x 8 columns]"
      ]
     },
     "execution_count": 12,
     "metadata": {},
     "output_type": "execute_result"
    }
   ],
   "source": [
    "df1=df.drop(columns=['Name','Sex','Cabin','Ticket'])\n",
    "df1"
   ]
  },
  {
   "cell_type": "code",
   "execution_count": 13,
   "id": "6e2098ce",
   "metadata": {
    "execution": {
     "iopub.execute_input": "2024-05-12T13:53:30.677251Z",
     "iopub.status.busy": "2024-05-12T13:53:30.676206Z",
     "iopub.status.idle": "2024-05-12T13:53:30.694615Z",
     "shell.execute_reply": "2024-05-12T13:53:30.693651Z"
    },
    "papermill": {
     "duration": 0.037504,
     "end_time": "2024-05-12T13:53:30.697043",
     "exception": false,
     "start_time": "2024-05-12T13:53:30.659539",
     "status": "completed"
    },
    "tags": []
   },
   "outputs": [
    {
     "data": {
      "text/html": [
       "<div>\n",
       "<style scoped>\n",
       "    .dataframe tbody tr th:only-of-type {\n",
       "        vertical-align: middle;\n",
       "    }\n",
       "\n",
       "    .dataframe tbody tr th {\n",
       "        vertical-align: top;\n",
       "    }\n",
       "\n",
       "    .dataframe thead th {\n",
       "        text-align: right;\n",
       "    }\n",
       "</style>\n",
       "<table border=\"1\" class=\"dataframe\">\n",
       "  <thead>\n",
       "    <tr style=\"text-align: right;\">\n",
       "      <th></th>\n",
       "      <th>PassengerId</th>\n",
       "      <th>Survived</th>\n",
       "      <th>Pclass</th>\n",
       "      <th>Age</th>\n",
       "      <th>SibSp</th>\n",
       "      <th>Parch</th>\n",
       "      <th>Fare</th>\n",
       "      <th>Embarked</th>\n",
       "    </tr>\n",
       "  </thead>\n",
       "  <tbody>\n",
       "    <tr>\n",
       "      <th>PassengerId</th>\n",
       "      <td>1.000000</td>\n",
       "      <td>-0.023245</td>\n",
       "      <td>-0.026751</td>\n",
       "      <td>-0.034102</td>\n",
       "      <td>0.003818</td>\n",
       "      <td>0.043080</td>\n",
       "      <td>0.008211</td>\n",
       "      <td>0.040699</td>\n",
       "    </tr>\n",
       "    <tr>\n",
       "      <th>Survived</th>\n",
       "      <td>-0.023245</td>\n",
       "      <td>1.000000</td>\n",
       "      <td>-0.108615</td>\n",
       "      <td>-0.000013</td>\n",
       "      <td>0.099943</td>\n",
       "      <td>0.159120</td>\n",
       "      <td>0.191514</td>\n",
       "      <td>-0.076281</td>\n",
       "    </tr>\n",
       "    <tr>\n",
       "      <th>Pclass</th>\n",
       "      <td>-0.026751</td>\n",
       "      <td>-0.108615</td>\n",
       "      <td>1.000000</td>\n",
       "      <td>-0.492143</td>\n",
       "      <td>0.001087</td>\n",
       "      <td>0.018721</td>\n",
       "      <td>-0.577147</td>\n",
       "      <td>0.227983</td>\n",
       "    </tr>\n",
       "    <tr>\n",
       "      <th>Age</th>\n",
       "      <td>-0.034102</td>\n",
       "      <td>-0.000013</td>\n",
       "      <td>-0.492143</td>\n",
       "      <td>1.000000</td>\n",
       "      <td>-0.091587</td>\n",
       "      <td>-0.061249</td>\n",
       "      <td>0.337932</td>\n",
       "      <td>-0.175848</td>\n",
       "    </tr>\n",
       "    <tr>\n",
       "      <th>SibSp</th>\n",
       "      <td>0.003818</td>\n",
       "      <td>0.099943</td>\n",
       "      <td>0.001087</td>\n",
       "      <td>-0.091587</td>\n",
       "      <td>1.000000</td>\n",
       "      <td>0.306895</td>\n",
       "      <td>0.171539</td>\n",
       "      <td>0.052708</td>\n",
       "    </tr>\n",
       "    <tr>\n",
       "      <th>Parch</th>\n",
       "      <td>0.043080</td>\n",
       "      <td>0.159120</td>\n",
       "      <td>0.018721</td>\n",
       "      <td>-0.061249</td>\n",
       "      <td>0.306895</td>\n",
       "      <td>1.000000</td>\n",
       "      <td>0.230046</td>\n",
       "      <td>0.054577</td>\n",
       "    </tr>\n",
       "    <tr>\n",
       "      <th>Fare</th>\n",
       "      <td>0.008211</td>\n",
       "      <td>0.191514</td>\n",
       "      <td>-0.577147</td>\n",
       "      <td>0.337932</td>\n",
       "      <td>0.171539</td>\n",
       "      <td>0.230046</td>\n",
       "      <td>1.000000</td>\n",
       "      <td>-0.257183</td>\n",
       "    </tr>\n",
       "    <tr>\n",
       "      <th>Embarked</th>\n",
       "      <td>0.040699</td>\n",
       "      <td>-0.076281</td>\n",
       "      <td>0.227983</td>\n",
       "      <td>-0.175848</td>\n",
       "      <td>0.052708</td>\n",
       "      <td>0.054577</td>\n",
       "      <td>-0.257183</td>\n",
       "      <td>1.000000</td>\n",
       "    </tr>\n",
       "  </tbody>\n",
       "</table>\n",
       "</div>"
      ],
      "text/plain": [
       "             PassengerId  Survived    Pclass       Age     SibSp     Parch  \\\n",
       "PassengerId     1.000000 -0.023245 -0.026751 -0.034102  0.003818  0.043080   \n",
       "Survived       -0.023245  1.000000 -0.108615 -0.000013  0.099943  0.159120   \n",
       "Pclass         -0.026751 -0.108615  1.000000 -0.492143  0.001087  0.018721   \n",
       "Age            -0.034102 -0.000013 -0.492143  1.000000 -0.091587 -0.061249   \n",
       "SibSp           0.003818  0.099943  0.001087 -0.091587  1.000000  0.306895   \n",
       "Parch           0.043080  0.159120  0.018721 -0.061249  0.306895  1.000000   \n",
       "Fare            0.008211  0.191514 -0.577147  0.337932  0.171539  0.230046   \n",
       "Embarked        0.040699 -0.076281  0.227983 -0.175848  0.052708  0.054577   \n",
       "\n",
       "                 Fare  Embarked  \n",
       "PassengerId  0.008211  0.040699  \n",
       "Survived     0.191514 -0.076281  \n",
       "Pclass      -0.577147  0.227983  \n",
       "Age          0.337932 -0.175848  \n",
       "SibSp        0.171539  0.052708  \n",
       "Parch        0.230046  0.054577  \n",
       "Fare         1.000000 -0.257183  \n",
       "Embarked    -0.257183  1.000000  "
      ]
     },
     "execution_count": 13,
     "metadata": {},
     "output_type": "execute_result"
    }
   ],
   "source": [
    "df1.corr()"
   ]
  },
  {
   "cell_type": "code",
   "execution_count": 14,
   "id": "ab2b0435",
   "metadata": {
    "execution": {
     "iopub.execute_input": "2024-05-12T13:53:30.730121Z",
     "iopub.status.busy": "2024-05-12T13:53:30.729654Z",
     "iopub.status.idle": "2024-05-12T13:53:30.739238Z",
     "shell.execute_reply": "2024-05-12T13:53:30.738461Z"
    },
    "papermill": {
     "duration": 0.028849,
     "end_time": "2024-05-12T13:53:30.741470",
     "exception": false,
     "start_time": "2024-05-12T13:53:30.712621",
     "status": "completed"
    },
    "tags": []
   },
   "outputs": [
    {
     "data": {
      "text/plain": [
       "PassengerId   -0.023245\n",
       "Survived       1.000000\n",
       "Pclass        -0.108615\n",
       "Age           -0.000013\n",
       "SibSp          0.099943\n",
       "Parch          0.159120\n",
       "Fare           0.191514\n",
       "Embarked      -0.076281\n",
       "Name: Survived, dtype: float64"
      ]
     },
     "execution_count": 14,
     "metadata": {},
     "output_type": "execute_result"
    }
   ],
   "source": [
    "#output column is 'Survived'\n",
    "df1.corr()['Survived']"
   ]
  },
  {
   "cell_type": "markdown",
   "id": "ecc0cf20",
   "metadata": {
    "papermill": {
     "duration": 0.016699,
     "end_time": "2024-05-12T13:53:30.774606",
     "exception": false,
     "start_time": "2024-05-12T13:53:30.757907",
     "status": "completed"
    },
    "tags": []
   },
   "source": [
    "> **EDA (Univariate analysis)**"
   ]
  },
  {
   "cell_type": "markdown",
   "id": "a0c6280c",
   "metadata": {
    "papermill": {
     "duration": 0.016084,
     "end_time": "2024-05-12T13:53:30.807205",
     "exception": false,
     "start_time": "2024-05-12T13:53:30.791121",
     "status": "completed"
    },
    "tags": []
   },
   "source": [
    "**1. Categorical data**"
   ]
  },
  {
   "cell_type": "markdown",
   "id": "3f834603",
   "metadata": {
    "papermill": {
     "duration": 0.01548,
     "end_time": "2024-05-12T13:53:30.838585",
     "exception": false,
     "start_time": "2024-05-12T13:53:30.823105",
     "status": "completed"
    },
    "tags": []
   },
   "source": [
    "> Bar chart"
   ]
  },
  {
   "cell_type": "code",
   "execution_count": 15,
   "id": "2b8df114",
   "metadata": {
    "execution": {
     "iopub.execute_input": "2024-05-12T13:53:30.872385Z",
     "iopub.status.busy": "2024-05-12T13:53:30.871674Z",
     "iopub.status.idle": "2024-05-12T13:53:31.159784Z",
     "shell.execute_reply": "2024-05-12T13:53:31.158613Z"
    },
    "papermill": {
     "duration": 0.308191,
     "end_time": "2024-05-12T13:53:31.162601",
     "exception": false,
     "start_time": "2024-05-12T13:53:30.854410",
     "status": "completed"
    },
    "tags": []
   },
   "outputs": [
    {
     "data": {
      "text/plain": [
       "<Axes: xlabel='Survived'>"
      ]
     },
     "execution_count": 15,
     "metadata": {},
     "output_type": "execute_result"
    },
    {
     "data": {
      "image/png": "[encoded data removed]",
      "text/plain": [
       "<Figure size 640x480 with 1 Axes>"
      ]
     },
     "metadata": {},
     "output_type": "display_data"
    }
   ],
   "source": [
    "df['Survived'].value_counts().plot(kind='bar') #0-> not survived , 1->survived"
   ]
  },
  {
   "cell_type": "code",
   "execution_count": 16,
   "id": "94d0a968",
   "metadata": {
    "execution": {
     "iopub.execute_input": "2024-05-12T13:53:31.197338Z",
     "iopub.status.busy": "2024-05-12T13:53:31.196883Z",
     "iopub.status.idle": "2024-05-12T13:53:31.426989Z",
     "shell.execute_reply": "2024-05-12T13:53:31.425843Z"
    },
    "papermill": {
     "duration": 0.251079,
     "end_time": "2024-05-12T13:53:31.430092",
     "exception": false,
     "start_time": "2024-05-12T13:53:31.179013",
     "status": "completed"
    },
    "tags": []
   },
   "outputs": [
    {
     "data": {
      "text/plain": [
       "<Axes: xlabel='Pclass'>"
      ]
     },
     "execution_count": 16,
     "metadata": {},
     "output_type": "execute_result"
    },
    {
     "data": {
      "image/png": "[encoded data removed]",
      "text/plain": [
       "<Figure size 640x480 with 1 Axes>"
      ]
     },
     "metadata": {},
     "output_type": "display_data"
    }
   ],
   "source": [
    "df['Pclass'].value_counts().plot(kind='bar')"
   ]
  },
  {
   "cell_type": "code",
   "execution_count": 17,
   "id": "0f5d41c3",
   "metadata": {
    "execution": {
     "iopub.execute_input": "2024-05-12T13:53:31.466192Z",
     "iopub.status.busy": "2024-05-12T13:53:31.465558Z",
     "iopub.status.idle": "2024-05-12T13:53:31.471922Z",
     "shell.execute_reply": "2024-05-12T13:53:31.470732Z"
    },
    "papermill": {
     "duration": 0.02679,
     "end_time": "2024-05-12T13:53:31.474079",
     "exception": false,
     "start_time": "2024-05-12T13:53:31.447289",
     "status": "completed"
    },
    "tags": []
   },
   "outputs": [
    {
     "data": {
      "text/plain": [
       "Index(['PassengerId', 'Survived', 'Pclass', 'Name', 'Sex', 'Age', 'SibSp',\n",
       "       'Parch', 'Ticket', 'Fare', 'Cabin', 'Embarked'],\n",
       "      dtype='object')"
      ]
     },
     "execution_count": 17,
     "metadata": {},
     "output_type": "execute_result"
    }
   ],
   "source": [
    "df.columns"
   ]
  },
  {
   "cell_type": "code",
   "execution_count": 18,
   "id": "c10aa4e5",
   "metadata": {
    "execution": {
     "iopub.execute_input": "2024-05-12T13:53:31.515364Z",
     "iopub.status.busy": "2024-05-12T13:53:31.514518Z",
     "iopub.status.idle": "2024-05-12T13:53:31.772536Z",
     "shell.execute_reply": "2024-05-12T13:53:31.771195Z"
    },
    "papermill": {
     "duration": 0.282615,
     "end_time": "2024-05-12T13:53:31.774938",
     "exception": false,
     "start_time": "2024-05-12T13:53:31.492323",
     "status": "completed"
    },
    "tags": []
   },
   "outputs": [
    {
     "data": {
      "text/plain": [
       "<Axes: xlabel='Sex'>"
      ]
     },
     "execution_count": 18,
     "metadata": {},
     "output_type": "execute_result"
    },
    {
     "data": {
      "image/png": "[encoded data removed]",
      "text/plain": [
       "<Figure size 640x480 with 1 Axes>"
      ]
     },
     "metadata": {},
     "output_type": "display_data"
    }
   ],
   "source": [
    "df['Sex'].value_counts().plot(kind='bar')"
   ]
  },
  {
   "cell_type": "code",
   "execution_count": 19,
   "id": "dc8cb24d",
   "metadata": {
    "execution": {
     "iopub.execute_input": "2024-05-12T13:53:31.872486Z",
     "iopub.status.busy": "2024-05-12T13:53:31.872038Z",
     "iopub.status.idle": "2024-05-12T13:53:32.132408Z",
     "shell.execute_reply": "2024-05-12T13:53:32.130919Z"
    },
    "papermill": {
     "duration": 0.282563,
     "end_time": "2024-05-12T13:53:32.135190",
     "exception": false,
     "start_time": "2024-05-12T13:53:31.852627",
     "status": "completed"
    },
    "tags": []
   },
   "outputs": [
    {
     "data": {
      "text/plain": [
       "<Axes: xlabel='Embarked'>"
      ]
     },
     "execution_count": 19,
     "metadata": {},
     "output_type": "execute_result"
    },
    {
     "data": {
      "image/png": "[encoded data removed]",
      "text/plain": [
       "<Figure size 640x480 with 1 Axes>"
      ]
     },
     "metadata": {},
     "output_type": "display_data"
    }
   ],
   "source": [
    "df['Embarked'].value_counts().plot(kind='bar')"
   ]
  },
  {
   "cell_type": "markdown",
   "id": "47d8c461",
   "metadata": {
    "papermill": {
     "duration": 0.017731,
     "end_time": "2024-05-12T13:53:32.171797",
     "exception": false,
     "start_time": "2024-05-12T13:53:32.154066",
     "status": "completed"
    },
    "tags": []
   },
   "source": [
    "> **Pie chart**"
   ]
  },
  {
   "cell_type": "code",
   "execution_count": 20,
   "id": "823a4eac",
   "metadata": {
    "execution": {
     "iopub.execute_input": "2024-05-12T13:53:32.210226Z",
     "iopub.status.busy": "2024-05-12T13:53:32.209760Z",
     "iopub.status.idle": "2024-05-12T13:53:32.358288Z",
     "shell.execute_reply": "2024-05-12T13:53:32.356613Z"
    },
    "papermill": {
     "duration": 0.172903,
     "end_time": "2024-05-12T13:53:32.362779",
     "exception": false,
     "start_time": "2024-05-12T13:53:32.189876",
     "status": "completed"
    },
    "tags": []
   },
   "outputs": [
    {
     "data": {
      "text/plain": [
       "<Axes: ylabel='count'>"
      ]
     },
     "execution_count": 20,
     "metadata": {},
     "output_type": "execute_result"
    },
    {
     "data": {
      "image/png": "[encoded data removed]",
      "text/plain": [
       "<Figure size 640x480 with 1 Axes>"
      ]
     },
     "metadata": {},
     "output_type": "display_data"
    }
   ],
   "source": [
    "df['Survived'].value_counts().plot(kind='pie',autopct='%.2f') #0-> not survived , 1->survived"
   ]
  },
  {
   "cell_type": "code",
   "execution_count": 21,
   "id": "7774985a",
   "metadata": {
    "execution": {
     "iopub.execute_input": "2024-05-12T13:53:32.440824Z",
     "iopub.status.busy": "2024-05-12T13:53:32.440396Z",
     "iopub.status.idle": "2024-05-12T13:53:32.613667Z",
     "shell.execute_reply": "2024-05-12T13:53:32.611733Z"
    },
    "papermill": {
     "duration": 0.216021,
     "end_time": "2024-05-12T13:53:32.618616",
     "exception": false,
     "start_time": "2024-05-12T13:53:32.402595",
     "status": "completed"
    },
    "tags": []
   },
   "outputs": [
    {
     "data": {
      "text/plain": [
       "<Axes: ylabel='count'>"
      ]
     },
     "execution_count": 21,
     "metadata": {},
     "output_type": "execute_result"
    },
    {
     "data": {
      "image/png": "[encoded data removed]",
      "text/plain": [
       "<Figure size 640x480 with 1 Axes>"
      ]
     },
     "metadata": {},
     "output_type": "display_data"
    }
   ],
   "source": [
    "df['Pclass'].value_counts().plot(kind='pie',autopct='%.2f')"
   ]
  },
  {
   "cell_type": "code",
   "execution_count": 22,
   "id": "ab093f37",
   "metadata": {
    "execution": {
     "iopub.execute_input": "2024-05-12T13:53:32.688599Z",
     "iopub.status.busy": "2024-05-12T13:53:32.687786Z",
     "iopub.status.idle": "2024-05-12T13:53:32.822537Z",
     "shell.execute_reply": "2024-05-12T13:53:32.820925Z"
    },
    "papermill": {
     "duration": 0.167804,
     "end_time": "2024-05-12T13:53:32.827199",
     "exception": false,
     "start_time": "2024-05-12T13:53:32.659395",
     "status": "completed"
    },
    "tags": []
   },
   "outputs": [
    {
     "data": {
      "text/plain": [
       "<Axes: ylabel='count'>"
      ]
     },
     "execution_count": 22,
     "metadata": {},
     "output_type": "execute_result"
    },
    {
     "data": {
      "image/png": "[encoded data removed]",
      "text/plain": [
       "<Figure size 640x480 with 1 Axes>"
      ]
     },
     "metadata": {},
     "output_type": "display_data"
    }
   ],
   "source": [
    "df['Sex'].value_counts().plot(kind='pie',autopct='%.2f')"
   ]
  },
  {
   "cell_type": "markdown",
   "id": "7bfef810",
   "metadata": {
    "papermill": {
     "duration": 0.031128,
     "end_time": "2024-05-12T13:53:32.900274",
     "exception": false,
     "start_time": "2024-05-12T13:53:32.869146",
     "status": "completed"
    },
    "tags": []
   },
   "source": [
    "**2. Numerical Data**"
   ]
  },
  {
   "cell_type": "markdown",
   "id": "761d15d4",
   "metadata": {
    "papermill": {
     "duration": 0.019259,
     "end_time": "2024-05-12T13:53:32.939008",
     "exception": false,
     "start_time": "2024-05-12T13:53:32.919749",
     "status": "completed"
    },
    "tags": []
   },
   "source": [
    "> **Histogram**"
   ]
  },
  {
   "cell_type": "code",
   "execution_count": 23,
   "id": "8e1aa103",
   "metadata": {
    "execution": {
     "iopub.execute_input": "2024-05-12T13:53:32.981274Z",
     "iopub.status.busy": "2024-05-12T13:53:32.980802Z",
     "iopub.status.idle": "2024-05-12T13:53:32.985911Z",
     "shell.execute_reply": "2024-05-12T13:53:32.984689Z"
    },
    "papermill": {
     "duration": 0.02997,
     "end_time": "2024-05-12T13:53:32.988525",
     "exception": false,
     "start_time": "2024-05-12T13:53:32.958555",
     "status": "completed"
    },
    "tags": []
   },
   "outputs": [],
   "source": [
    "import matplotlib.pyplot as plt"
   ]
  },
  {
   "cell_type": "code",
   "execution_count": 24,
   "id": "dad4d3cd",
   "metadata": {
    "execution": {
     "iopub.execute_input": "2024-05-12T13:53:33.030192Z",
     "iopub.status.busy": "2024-05-12T13:53:33.029466Z",
     "iopub.status.idle": "2024-05-12T13:53:33.046409Z",
     "shell.execute_reply": "2024-05-12T13:53:33.045223Z"
    },
    "papermill": {
     "duration": 0.041102,
     "end_time": "2024-05-12T13:53:33.049315",
     "exception": false,
     "start_time": "2024-05-12T13:53:33.008213",
     "status": "completed"
    },
    "tags": []
   },
   "outputs": [
    {
     "data": {
      "text/html": [
       "<div>\n",
       "<style scoped>\n",
       "    .dataframe tbody tr th:only-of-type {\n",
       "        vertical-align: middle;\n",
       "    }\n",
       "\n",
       "    .dataframe tbody tr th {\n",
       "        vertical-align: top;\n",
       "    }\n",
       "\n",
       "    .dataframe thead th {\n",
       "        text-align: right;\n",
       "    }\n",
       "</style>\n",
       "<table border=\"1\" class=\"dataframe\">\n",
       "  <thead>\n",
       "    <tr style=\"text-align: right;\">\n",
       "      <th></th>\n",
       "      <th>PassengerId</th>\n",
       "      <th>Survived</th>\n",
       "      <th>Pclass</th>\n",
       "      <th>Name</th>\n",
       "      <th>Sex</th>\n",
       "      <th>Age</th>\n",
       "      <th>SibSp</th>\n",
       "      <th>Parch</th>\n",
       "      <th>Ticket</th>\n",
       "      <th>Fare</th>\n",
       "      <th>Cabin</th>\n",
       "      <th>Embarked</th>\n",
       "    </tr>\n",
       "  </thead>\n",
       "  <tbody>\n",
       "    <tr>\n",
       "      <th>0</th>\n",
       "      <td>892</td>\n",
       "      <td>0</td>\n",
       "      <td>3</td>\n",
       "      <td>Kelly, Mr. James</td>\n",
       "      <td>male</td>\n",
       "      <td>34.5</td>\n",
       "      <td>0</td>\n",
       "      <td>0</td>\n",
       "      <td>330911</td>\n",
       "      <td>7.8292</td>\n",
       "      <td>NaN</td>\n",
       "      <td>1</td>\n",
       "    </tr>\n",
       "    <tr>\n",
       "      <th>1</th>\n",
       "      <td>893</td>\n",
       "      <td>1</td>\n",
       "      <td>3</td>\n",
       "      <td>Wilkes, Mrs. James (Ellen Needs)</td>\n",
       "      <td>female</td>\n",
       "      <td>47.0</td>\n",
       "      <td>1</td>\n",
       "      <td>0</td>\n",
       "      <td>363272</td>\n",
       "      <td>7.0000</td>\n",
       "      <td>NaN</td>\n",
       "      <td>2</td>\n",
       "    </tr>\n",
       "    <tr>\n",
       "      <th>2</th>\n",
       "      <td>894</td>\n",
       "      <td>0</td>\n",
       "      <td>2</td>\n",
       "      <td>Myles, Mr. Thomas Francis</td>\n",
       "      <td>male</td>\n",
       "      <td>62.0</td>\n",
       "      <td>0</td>\n",
       "      <td>0</td>\n",
       "      <td>240276</td>\n",
       "      <td>9.6875</td>\n",
       "      <td>NaN</td>\n",
       "      <td>1</td>\n",
       "    </tr>\n",
       "    <tr>\n",
       "      <th>3</th>\n",
       "      <td>895</td>\n",
       "      <td>0</td>\n",
       "      <td>3</td>\n",
       "      <td>Wirz, Mr. Albert</td>\n",
       "      <td>male</td>\n",
       "      <td>27.0</td>\n",
       "      <td>0</td>\n",
       "      <td>0</td>\n",
       "      <td>315154</td>\n",
       "      <td>8.6625</td>\n",
       "      <td>NaN</td>\n",
       "      <td>2</td>\n",
       "    </tr>\n",
       "    <tr>\n",
       "      <th>4</th>\n",
       "      <td>896</td>\n",
       "      <td>1</td>\n",
       "      <td>3</td>\n",
       "      <td>Hirvonen, Mrs. Alexander (Helga E Lindqvist)</td>\n",
       "      <td>female</td>\n",
       "      <td>22.0</td>\n",
       "      <td>1</td>\n",
       "      <td>1</td>\n",
       "      <td>3101298</td>\n",
       "      <td>12.2875</td>\n",
       "      <td>NaN</td>\n",
       "      <td>2</td>\n",
       "    </tr>\n",
       "  </tbody>\n",
       "</table>\n",
       "</div>"
      ],
      "text/plain": [
       "   PassengerId  Survived  Pclass  \\\n",
       "0          892         0       3   \n",
       "1          893         1       3   \n",
       "2          894         0       2   \n",
       "3          895         0       3   \n",
       "4          896         1       3   \n",
       "\n",
       "                                           Name     Sex   Age  SibSp  Parch  \\\n",
       "0                              Kelly, Mr. James    male  34.5      0      0   \n",
       "1              Wilkes, Mrs. James (Ellen Needs)  female  47.0      1      0   \n",
       "2                     Myles, Mr. Thomas Francis    male  62.0      0      0   \n",
       "3                              Wirz, Mr. Albert    male  27.0      0      0   \n",
       "4  Hirvonen, Mrs. Alexander (Helga E Lindqvist)  female  22.0      1      1   \n",
       "\n",
       "    Ticket     Fare Cabin  Embarked  \n",
       "0   330911   7.8292   NaN         1  \n",
       "1   363272   7.0000   NaN         2  \n",
       "2   240276   9.6875   NaN         1  \n",
       "3   315154   8.6625   NaN         2  \n",
       "4  3101298  12.2875   NaN         2  "
      ]
     },
     "execution_count": 24,
     "metadata": {},
     "output_type": "execute_result"
    }
   ],
   "source": [
    "df.head()"
   ]
  },
  {
   "cell_type": "code",
   "execution_count": 25,
   "id": "9dfb2d09",
   "metadata": {
    "execution": {
     "iopub.execute_input": "2024-05-12T13:53:33.091684Z",
     "iopub.status.busy": "2024-05-12T13:53:33.091208Z",
     "iopub.status.idle": "2024-05-12T13:53:33.400446Z",
     "shell.execute_reply": "2024-05-12T13:53:33.399298Z"
    },
    "papermill": {
     "duration": 0.333442,
     "end_time": "2024-05-12T13:53:33.402871",
     "exception": false,
     "start_time": "2024-05-12T13:53:33.069429",
     "status": "completed"
    },
    "tags": []
   },
   "outputs": [
    {
     "data": {
      "text/plain": [
       "(array([11.,  5.,  7.,  9., 29., 42., 52., 45., 21., 22., 18., 19., 16.,\n",
       "         9., 11.,  6.,  8.,  1.,  0.,  1.]),\n",
       " array([ 0.17  ,  3.9615,  7.753 , 11.5445, 15.336 , 19.1275, 22.919 ,\n",
       "        26.7105, 30.502 , 34.2935, 38.085 , 41.8765, 45.668 , 49.4595,\n",
       "        53.251 , 57.0425, 60.834 , 64.6255, 68.417 , 72.2085, 76.    ]),\n",
       " <BarContainer object of 20 artists>)"
      ]
     },
     "execution_count": 25,
     "metadata": {},
     "output_type": "execute_result"
    },
    {
     "data": {
      "image/png": "[encoded data removed]",
      "text/plain": [
       "<Figure size 640x480 with 1 Axes>"
      ]
     },
     "metadata": {},
     "output_type": "display_data"
    }
   ],
   "source": [
    "plt.hist(df['Age'],bins=20)"
   ]
  },
  {
   "cell_type": "markdown",
   "id": "5fce51e0",
   "metadata": {
    "papermill": {
     "duration": 0.020468,
     "end_time": "2024-05-12T13:53:33.444417",
     "exception": false,
     "start_time": "2024-05-12T13:53:33.423949",
     "status": "completed"
    },
    "tags": []
   },
   "source": [
    "> **Distplot**"
   ]
  },
  {
   "cell_type": "markdown",
   "id": "ec5da2c9",
   "metadata": {
    "papermill": {
     "duration": 0.020991,
     "end_time": "2024-05-12T13:53:33.485639",
     "exception": false,
     "start_time": "2024-05-12T13:53:33.464648",
     "status": "completed"
    },
    "tags": []
   },
   "source": [
    "*This actually gives the probability density function ,y axis probability, so p( any random person to age be 40 )= value corresponding to x=40 in intersection of the curve and histogram*"
   ]
  },
  {
   "cell_type": "code",
   "execution_count": 26,
   "id": "34041cd6",
   "metadata": {
    "execution": {
     "iopub.execute_input": "2024-05-12T13:53:33.529616Z",
     "iopub.status.busy": "2024-05-12T13:53:33.529150Z",
     "iopub.status.idle": "2024-05-12T13:53:33.912620Z",
     "shell.execute_reply": "2024-05-12T13:53:33.911405Z"
    },
    "papermill": {
     "duration": 0.408428,
     "end_time": "2024-05-12T13:53:33.915498",
     "exception": false,
     "start_time": "2024-05-12T13:53:33.507070",
     "status": "completed"
    },
    "tags": []
   },
   "outputs": [
    {
     "name": "stderr",
     "output_type": "stream",
     "text": [
      "/tmp/ipykernel_18/2900341866.py:1: UserWarning: \n",
      "\n",
      "`distplot` is a deprecated function and will be removed in seaborn v0.14.0.\n",
      "\n",
      "Please adapt your code to use either `displot` (a figure-level function with\n",
      "similar flexibility) or `histplot` (an axes-level function for histograms).\n",
      "\n",
      "For a guide to updating your code to use the new functions, please see\n",
      "https://gist.github.com/mwaskom/de44147ed2974457ad6372750bbe5751\n",
      "\n",
      "  sns.distplot(df['Age'],bins=20)\n",
      "/opt/conda/lib/python3.10/site-packages/seaborn/_oldcore.py:1119: FutureWarning: use_inf_as_na option is deprecated and will be removed in a future version. Convert inf values to NaN before operating instead.\n",
      "  with pd.option_context('mode.use_inf_as_na', True):\n"
     ]
    },
    {
     "data": {
      "text/plain": [
       "<Axes: xlabel='Age', ylabel='Density'>"
      ]
     },
     "execution_count": 26,
     "metadata": {},
     "output_type": "execute_result"
    },
    {
     "data": {
      "image/png": "[encoded data removed]",
      "text/plain": [
       "<Figure size 640x480 with 1 Axes>"
      ]
     },
     "metadata": {},
     "output_type": "display_data"
    }
   ],
   "source": [
    "sns.distplot(df['Age'],bins=20)"
   ]
  },
  {
   "cell_type": "markdown",
   "id": "b4aafa68",
   "metadata": {
    "papermill": {
     "duration": 0.021382,
     "end_time": "2024-05-12T13:53:33.958812",
     "exception": false,
     "start_time": "2024-05-12T13:53:33.937430",
     "status": "completed"
    },
    "tags": []
   },
   "source": [
    "> **Boxplot**"
   ]
  },
  {
   "cell_type": "code",
   "execution_count": 27,
   "id": "dee686f6",
   "metadata": {
    "execution": {
     "iopub.execute_input": "2024-05-12T13:53:34.004237Z",
     "iopub.status.busy": "2024-05-12T13:53:34.003460Z",
     "iopub.status.idle": "2024-05-12T13:53:34.229489Z",
     "shell.execute_reply": "2024-05-12T13:53:34.228401Z"
    },
    "papermill": {
     "duration": 0.251506,
     "end_time": "2024-05-12T13:53:34.232260",
     "exception": false,
     "start_time": "2024-05-12T13:53:33.980754",
     "status": "completed"
    },
    "tags": []
   },
   "outputs": [
    {
     "data": {
      "text/plain": [
       "<Axes: >"
      ]
     },
     "execution_count": 27,
     "metadata": {},
     "output_type": "execute_result"
    },
    {
     "data": {
      "image/png": "[encoded data removed]",
      "text/plain": [
       "<Figure size 640x480 with 1 Axes>"
      ]
     },
     "metadata": {},
     "output_type": "display_data"
    }
   ],
   "source": [
    "sns.boxplot(df['Fare'])"
   ]
  },
  {
   "cell_type": "code",
   "execution_count": null,
   "id": "027b2ccf",
   "metadata": {
    "papermill": {
     "duration": 0.021835,
     "end_time": "2024-05-12T13:53:34.276739",
     "exception": false,
     "start_time": "2024-05-12T13:53:34.254904",
     "status": "completed"
    },
    "tags": []
   },
   "outputs": [],
   "source": []
  }
 ],
 "metadata": {
  "kaggle": {
   "accelerator": "none",
   "dataSources": [
    {
     "datasetId": 826163,
     "sourceId": 2879186,
     "sourceType": "datasetVersion"
    }
   ],
   "dockerImageVersionId": 30698,
   "isGpuEnabled": false,
   "isInternetEnabled": true,
   "language": "python",
   "sourceType": "notebook"
  },
  "kernelspec": {
   "display_name": "Python 3",
   "language": "python",
   "name": "python3"
  },
  "language_info": {
   "codemirror_mode": {
    "name": "ipython",
    "version": 3
   },
   "file_extension": ".py",
   "mimetype": "text/x-python",
   "name": "python",
   "nbconvert_exporter": "python",
   "pygments_lexer": "ipython3",
   "version": "3.10.13"
  },
  "papermill": {
   "default_parameters": {},
   "duration": 11.433225,
   "end_time": "2024-05-12T13:53:35.021403",
   "environment_variables": {},
   "exception": null,
   "input_path": "__notebook__.ipynb",
   "output_path": "__notebook__.ipynb",
   "parameters": {},
   "start_time": "2024-05-12T13:53:23.588178",
   "version": "2.5.0"
  }
 },
 "nbformat": 4,
 "nbformat_minor": 5
}
